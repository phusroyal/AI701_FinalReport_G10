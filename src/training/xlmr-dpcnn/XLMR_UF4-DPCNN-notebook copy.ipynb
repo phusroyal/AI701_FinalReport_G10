{
 "cells": [
  {
   "cell_type": "code",
   "execution_count": 1,
   "metadata": {},
   "outputs": [],
   "source": [
    "from sklearn.metrics import f1_score, accuracy_score\n",
    "import numpy as np\n",
    "import random, os\n",
    "from tqdm import tqdm\n",
    "# import tensorflow as tf\n",
    "import torch\n",
    "from IPython.display import clear_output\n",
    "import transformers\n",
    "import torch.nn as nn\n",
    "import pandas as pd\n",
    "\n",
    "torch.cuda.empty_cache()\n",
    "import torch.nn.functional as F\n",
    "\n",
    "from sklearn.utils.class_weight import compute_class_weight\n",
    "\n",
    "# clear output\n",
    "clear_output()"
   ]
  },
  {
   "cell_type": "code",
   "execution_count": 2,
   "metadata": {},
   "outputs": [],
   "source": [
    "def seed_everything(seed=42):\n",
    "    random.seed(seed)\n",
    "    os.environ['PYTHONASSEED'] = str(seed)\n",
    "    np.random.seed(seed)\n",
    "    torch.manual_seed(seed)\n",
    "    torch.cuda.manual_seed(seed)\n",
    "    torch.backends.cudnn.deterministic = True\n",
    "    torch.backends.cudnn.benchmark = True\n",
    "\n",
    "seed_everything(seed=99) "
   ]
  },
  {
   "cell_type": "code",
   "execution_count": 3,
   "metadata": {},
   "outputs": [
    {
     "data": {
      "text/plain": [
       "device(type='cuda')"
      ]
     },
     "execution_count": 3,
     "metadata": {},
     "output_type": "execute_result"
    }
   ],
   "source": [
    "device = torch.device(\"cuda\" if torch.cuda.is_available() else \"cpu\")\n",
    "device"
   ]
  },
  {
   "cell_type": "markdown",
   "metadata": {},
   "source": [
    "# Data"
   ]
  },
  {
   "cell_type": "code",
   "execution_count": 4,
   "metadata": {},
   "outputs": [],
   "source": [
    "train_path = (\"/home/phu.hoang/Documents/courses/NLP701/MBZ-NLP701/data/data-raw/train_only_aug.csv\")\n",
    "dev_path = (\"/home/phu.hoang/Documents/courses/NLP701/MBZ-NLP701/data/data-raw/dev_raw.csv\")\n",
    "test_path = (\"/home/phu.hoang/Documents/courses/NLP701/MBZ-NLP701/data/data-raw/test_raw.csv\")"
   ]
  },
  {
   "cell_type": "code",
   "execution_count": 5,
   "metadata": {},
   "outputs": [],
   "source": [
    "def to_sentiment(label):\n",
    "    label = str(label)\n",
    "    if label == 'very pos':\n",
    "        return 4\n",
    "    elif label == 'pos':\n",
    "        return 3\n",
    "    elif label == 'neu':\n",
    "        return 2\n",
    "    elif label == 'neg':\n",
    "        return 1\n",
    "    elif label == 'very neg':\n",
    "        return 0\n",
    "    \n",
    "def prepare_data(file_path):\n",
    "    col_names = ['text', 'label']\n",
    "    df = pd.read_csv(file_path, names=col_names, header=None)\n",
    "    \n",
    "    # # remove nan\n",
    "    df = df.dropna()\n",
    "    df = df.reset_index(drop=True)\n",
    "\n",
    "    # map label to num\n",
    "    df['label'] = df.label.apply(to_sentiment)\n",
    "    \n",
    "    texts = df.text.tolist()\n",
    "    labels = df.label.tolist()\n",
    "    \n",
    "    # convert labels to tensors\n",
    "    labels = torch.tensor(labels)\n",
    "    \n",
    "    return texts, labels\n",
    "\n",
    "# Dataloader function\n",
    "class TextDataset(torch.utils.data.Dataset):\n",
    "    def __init__(self, texts, labels, tokenizer, max_len):      \n",
    "        self.texts = [tokenizer(text, \n",
    "                                padding='max_length', \n",
    "                                max_length = max_len, \n",
    "                                truncation=True,\n",
    "                                return_tensors=\"pt\")for text in texts]\n",
    "        self.labels = labels\n",
    "    \n",
    "    def __len__(self):\n",
    "        return len(self.labels)\n",
    "    \n",
    "    def __getitem__(self, index):\n",
    "        return self.texts[index], self.labels[index] #  self.attention_mask[index], \n",
    "\n",
    "def create_dataloader(texts, labels, batch_size, tokenizer, max_len, shuffle=True):\n",
    "    dataset = TextDataset(texts, labels, tokenizer, max_len)\n",
    "    # return texts\n",
    "    dataloader = torch.utils.data.DataLoader(dataset, batch_size=batch_size, shuffle=shuffle)\n",
    "    return dataloader"
   ]
  },
  {
   "cell_type": "markdown",
   "metadata": {},
   "source": [
    "# Create model"
   ]
  },
  {
   "cell_type": "code",
   "execution_count": 6,
   "metadata": {},
   "outputs": [],
   "source": [
    "class ResnetBlock(nn.Module):\n",
    "    def __init__(self, channel_size, conv_size):\n",
    "        super(ResnetBlock, self).__init__()\n",
    "        self.channel_size = channel_size\n",
    "        self.maxpool = nn.Sequential(\n",
    "            nn.ConstantPad1d(padding=(0, 1), value=0),\n",
    "            nn.MaxPool1d(kernel_size=3, stride=2)\n",
    "        )\n",
    "        self.conv = nn.Sequential(\n",
    "            nn.BatchNorm1d(num_features=self.channel_size),\n",
    "            nn.ReLU(inplace=True),\n",
    "            nn.Conv1d(self.channel_size, self.channel_size,\n",
    "                      kernel_size=conv_size, padding=1),\n",
    "            nn.BatchNorm1d(num_features=self.channel_size),\n",
    "            nn.ReLU(inplace=True),\n",
    "            nn.Conv1d(self.channel_size, self.channel_size,\n",
    "                      kernel_size=conv_size, padding=1),\n",
    "            nn.BatchNorm1d(num_features=self.channel_size),\n",
    "            nn.ReLU(inplace=True),\n",
    "            nn.Conv1d(self.channel_size, self.channel_size,\n",
    "                      kernel_size=conv_size, padding=1),\n",
    "            nn.BatchNorm1d(num_features=self.channel_size),\n",
    "            nn.ReLU(inplace=True),\n",
    "            nn.Conv1d(self.channel_size, self.channel_size,\n",
    "                      kernel_size=conv_size, padding=1),\n",
    "            nn.BatchNorm1d(num_features=self.channel_size),\n",
    "            nn.ReLU(inplace=True),\n",
    "            nn.Conv1d(self.channel_size, self.channel_size,\n",
    "                      kernel_size=conv_size, padding=1),\n",
    "        )\n",
    "\n",
    "    def forward(self, x):\n",
    "        x_shortcut = self.maxpool(x)\n",
    "        x = self.conv(x_shortcut)\n",
    "        x = x + x_shortcut\n",
    "        return x\n",
    "\n",
    "class PLM_2DCNN(nn.Module):\n",
    "    def __init__(self,\n",
    "                 plm_model,\n",
    "                 plm_drop_rate = 0.2,\n",
    "                 emb_dim = 768,\n",
    "                 conv_size = 3,\n",
    "                 conv_filters = 250,\n",
    "                 region_drop_rate = 0.5,\n",
    "                 fc_drop_rate = 0, \n",
    "                 output_dim = 5\n",
    "                 ):\n",
    "        super(PLM_2DCNN, self).__init__()\n",
    "\n",
    "        self.plm_model = plm_model\n",
    "        self.emb_dim = emb_dim\n",
    "        self.channel_size = conv_filters\n",
    "        self.plm_model       = plm_model\n",
    "        self.plm_drop_rate   = plm_drop_rate\n",
    "        self.region_drop_rate = region_drop_rate\n",
    "        self.output_dim = output_dim\n",
    "\n",
    "        self.fc_input = nn.Linear(in_features=emb_dim, out_features=emb_dim)\n",
    "\n",
    "        self.region_embedding = nn.Sequential(\n",
    "                                            nn.Conv1d(in_channels= self.emb_dim, \n",
    "                                                    out_channels= self.channel_size, \n",
    "                                                    kernel_size = conv_size,\n",
    "                                                    padding=1,\n",
    "                                                    ),\n",
    "                                            nn.BatchNorm1d(num_features=self.channel_size),\n",
    "                                            nn.ReLU(inplace=True),\n",
    "                                            nn.Dropout(self.region_drop_rate)\n",
    "                                        )\n",
    "        self.conv_block = nn.Sequential(\n",
    "                            nn.BatchNorm1d(num_features=self.channel_size),\n",
    "                            nn.ReLU(inplace=True),\n",
    "                            nn.Conv1d(self.channel_size, self.channel_size,\n",
    "                                    kernel_size=conv_size, padding=1),\n",
    "                            nn.BatchNorm1d(num_features=self.channel_size),\n",
    "                            nn.ReLU(inplace=True),\n",
    "                            nn.Conv1d(self.channel_size, self.channel_size,\n",
    "                                    kernel_size=conv_size, padding=1),\n",
    "                        )\n",
    "        \n",
    "        resnet_block_list = []\n",
    "        for i in range(6):\n",
    "            resnet_block_list.append(ResnetBlock(self.channel_size, conv_size))\n",
    "        \n",
    "        self.resnet_layer = nn.Sequential(*resnet_block_list)\n",
    "\n",
    "        self.fc = nn.Sequential(\n",
    "            nn.Linear(self.channel_size, self.channel_size),\n",
    "            nn.BatchNorm1d(self.channel_size),\n",
    "            nn.ReLU(inplace=True),\n",
    "            nn.Dropout(fc_drop_rate),\n",
    "            nn.Linear(self.channel_size, self.output_dim)\n",
    "        )\n",
    "\n",
    "\n",
    "    def __call__(self, input_ids, attention_mask):\n",
    "        self._last_hidden_state = self._create_plm_layer(plm_model= self.plm_model,\n",
    "                                                        plm_drop_rate= self.plm_drop_rate,\n",
    "                                                        input_ids= input_ids,\n",
    "                                                        attention_mask= attention_mask)\n",
    "        # print('Last hidden state:', self._last_hidden_state.shape)\n",
    "        self._flattened_ts = self._create_dpnn_layer(self._last_hidden_state)\n",
    "\n",
    "        return self._flattened_ts\n",
    "    \n",
    "    def _create_plm_layer(self, plm_model, plm_drop_rate, input_ids, attention_mask):\n",
    "        # get output of plm_model: logis and last hidden state\n",
    "        # with torch.no_grad():\n",
    "        output = plm_model(input_ids = input_ids,\n",
    "                            attention_mask = attention_mask,\n",
    "                            return_dict = False)\n",
    "        dropout = nn.Dropout(plm_drop_rate)\n",
    "        last_hidden_state = output[0]\n",
    "\n",
    "        return dropout(last_hidden_state)\n",
    "\n",
    "    def _create_dpnn_layer(self, x):\n",
    "        # print(x.shape)\n",
    "\n",
    "        batch = x.shape[0]\n",
    "        \n",
    "        x= x.permute(0, 2, 1)\n",
    "        x = self.region_embedding(x)\n",
    "        x_re = self.conv_block(x)      \n",
    "        x = x+x_re  \n",
    "        x = self.resnet_layer(x)\n",
    "        x = x.permute(0, 2, 1)\n",
    "        x = x.contiguous().view(batch, -1)\n",
    "        out = self.fc(x)\n",
    "        \n",
    "        return out"
   ]
  },
  {
   "cell_type": "code",
   "execution_count": 7,
   "metadata": {},
   "outputs": [],
   "source": [
    "# class ResnetBlock(nn.Module):\n",
    "#     def __init__(self, channel_size):\n",
    "#         super(ResnetBlock, self).__init__()\n",
    "#         self.channel_size = channel_size\n",
    "#         self.maxpool = nn.Sequential(\n",
    "#             nn.ConstantPad1d(padding=(0, 1), value=0),\n",
    "#             nn.MaxPool1d(kernel_size=3, stride=2)\n",
    "#         )\n",
    "#         self.conv = nn.Sequential(\n",
    "#             nn.BatchNorm1d(num_features=self.channel_size),\n",
    "#             nn.ReLU(),\n",
    "#             nn.Conv1d(self.channel_size, self.channel_size,\n",
    "#                       kernel_size=3, padding=1),\n",
    "#             nn.BatchNorm1d(num_features=self.channel_size),\n",
    "#             nn.ReLU(),\n",
    "#             nn.Conv1d(self.channel_size, self.channel_size,\n",
    "#                       kernel_size=3, padding=1),\n",
    "#         )\n",
    "\n",
    "#     def forward(self, x):\n",
    "#         x_shortcut = self.maxpool(x)\n",
    "#         x = self.conv(x_shortcut)\n",
    "#         x = x + x_shortcut\n",
    "#         return x\n",
    "\n",
    "# class PLM_CNN(nn.Module):\n",
    "#     def __init__(self,\n",
    "#                  plm_model,\n",
    "#                  plm_drop_rate = 0.2,\n",
    "#                  embedding_dim = 768,\n",
    "#                  filter_sizes = [1,2,3,4],\n",
    "#                  n_filters = 250,\n",
    "#                  dropout = 0.1,\n",
    "#                  output_dim = 5\n",
    "#                  ):\n",
    "#         super(PLM_CNN, self).__init__()\n",
    "\n",
    "#         self.plm_model = plm_model\n",
    "#         self.plm_drop_rate = plm_drop_rate\n",
    "\n",
    "#         self.conv_0 = nn.Conv1d(in_channels=embedding_dim, out_channels=n_filters, kernel_size=filter_sizes[0])\n",
    "#         self.bn_0 = nn.BatchNorm1d(n_filters)\n",
    "#         self.residual_0 = nn.Sequential(\n",
    "#             nn.Conv1d(in_channels=n_filters, out_channels=n_filters, kernel_size=3, padding=1),\n",
    "#             nn.BatchNorm1d(n_filters),\n",
    "#             nn.ELU(),\n",
    "#             nn.Conv1d(in_channels=n_filters, out_channels=n_filters, kernel_size=3, padding=1),\n",
    "#             nn.BatchNorm1d(n_filters)\n",
    "#         )\n",
    "        \n",
    "#         self.conv_1 = nn.Conv1d(in_channels=embedding_dim, out_channels=n_filters, kernel_size=filter_sizes[1])\n",
    "#         self.bn_1 = nn.BatchNorm1d(n_filters)\n",
    "#         self.residual_1 = nn.Sequential(\n",
    "#             nn.Conv1d(in_channels=n_filters, out_channels=n_filters, kernel_size=3, padding=1),\n",
    "#             nn.BatchNorm1d(n_filters),\n",
    "#             nn.ELU(),\n",
    "#             nn.Conv1d(in_channels=n_filters, out_channels=n_filters, kernel_size=3, padding=1),\n",
    "#             nn.BatchNorm1d(n_filters)\n",
    "#         )\n",
    "        \n",
    "#         self.conv_2 = nn.Conv1d(in_channels=embedding_dim, out_channels=n_filters, kernel_size=filter_sizes[2])\n",
    "#         self.bn_2 = nn.BatchNorm1d(n_filters)\n",
    "#         self.residual_2 = nn.Sequential(\n",
    "#             nn.Conv1d(in_channels=n_filters, out_channels=n_filters, kernel_size=3, padding=1),\n",
    "#             nn.BatchNorm1d(n_filters),\n",
    "#             nn.ELU(),\n",
    "#             nn.Conv1d(in_channels=n_filters, out_channels=n_filters, kernel_size=3, padding=1),\n",
    "#             nn.BatchNorm1d(n_filters)\n",
    "#         )\n",
    "        \n",
    "#         self.conv_3 = nn.Conv1d(in_channels=embedding_dim, out_channels=n_filters, kernel_size=filter_sizes[3])\n",
    "#         self.bn_3 = nn.BatchNorm1d(n_filters)\n",
    "#         self.residual_3 = nn.Sequential(\n",
    "#             nn.Conv1d(in_channels=n_filters, out_channels=n_filters, kernel_size=3, padding=1),\n",
    "#             nn.BatchNorm1d(n_filters),\n",
    "#             nn.ELU(),\n",
    "#             nn.Conv1d(in_channels=n_filters, out_channels=n_filters, kernel_size=3, padding=1),\n",
    "#             nn.BatchNorm1d(n_filters)\n",
    "#         )\n",
    "\n",
    "#         self.fc = nn.Linear(len(filter_sizes) * n_filters, output_dim)\n",
    "#         self.dropout = nn.Dropout(dropout)\n",
    "        \n",
    "#         nn.init.kaiming_uniform_(self.conv_0.weight)\n",
    "#         nn.init.kaiming_uniform_(self.conv_1.weight)\n",
    "#         nn.init.kaiming_uniform_(self.conv_2.weight)\n",
    "#         nn.init.kaiming_uniform_(self.conv_3.weight)\n",
    "#         nn.init.kaiming_uniform_(self.fc.weight)\n",
    "\n",
    "\n",
    "#     def __call__(self, input_ids, attention_mask):\n",
    "#         self._last_hidden_state = self._create_plm_layer(plm_model= self.plm_model,\n",
    "#                                                         plm_drop_rate= self.plm_drop_rate,\n",
    "#                                                         input_ids= input_ids,\n",
    "#                                                         attention_mask= attention_mask)\n",
    "#         # print('Last hidden state:', self._last_hidden_state.shape)\n",
    "#         self._flattened_ts = self._create_dpnn_layer(self._last_hidden_state)\n",
    "\n",
    "#         return self._flattened_ts\n",
    "    \n",
    "#     def _create_plm_layer(self, plm_model, plm_drop_rate, input_ids, attention_mask):\n",
    "#         # get output of plm_model: logis and last hidden state\n",
    "#         # with torch.no_grad():\n",
    "#         output = plm_model(input_ids = input_ids,\n",
    "#                             # attention_mask = attention_mask,\n",
    "#                             return_dict = False)\n",
    "#         dropout = nn.Dropout(plm_drop_rate)\n",
    "#         last_hidden_state = output[0]\n",
    "\n",
    "#         return dropout(last_hidden_state)\n",
    "\n",
    "#     def _create_dpnn_layer(self, x):\n",
    "#         # print(x.shape)\n",
    "\n",
    "#         x = x.permute(0, 2, 1)\n",
    "        \n",
    "#         # x = [batch size, sent len, emb dim]\n",
    "        \n",
    "#         x0 = F.relu(self.bn_0(self.conv_0(x)))\n",
    "#         x0 = self.bn_0(self.residual_0(x0) + x0)\n",
    "#         x1 = F.relu(self.bn_1(self.conv_1(x)))\n",
    "#         x1 = self.bn_1(self.residual_1(x1) + x1)\n",
    "#         x2 = F.relu(self.bn_2(self.conv_2(x)))\n",
    "#         x2 = self.bn_2(self.residual_2(x2) + x2)\n",
    "#         x3 = F.relu(self.bn_3(self.conv_3(x)))\n",
    "#         x3 = self.bn_3(self.residual_3(x3) + x3)\n",
    "        \n",
    "#         # xN = [batch size, n_filters, sent len - filter_sizes[n] + 1]\n",
    "        \n",
    "#         pooled_0 = F.max_pool1d(x0, x0.shape[2]).squeeze(2)\n",
    "#         pooled_1 = F.max_pool1d(x1, x1.shape[2]).squeeze(2)\n",
    "#         pooled_2 = F.max_pool1d(x2, x2.shape[2]).squeeze(2)\n",
    "#         pooled_3 = F.max_pool1d(x3, x3.shape[2]).squeeze(2)\n",
    "        \n",
    "#         # print(x0.shape, x1.shape, x2.shape, x3.shape)\n",
    "        \n",
    "#         x = torch.cat((pooled_0, pooled_1, pooled_2, pooled_3), dim=1).cuda()\n",
    "        \n",
    "#         # x = [batch size, n_filters * len(filter_sizes)]\n",
    "        \n",
    "#         x = x.view(-1, x.shape[1])\n",
    "        \n",
    "#         x = self.dropout(x)\n",
    "        \n",
    "#         x = self.fc(x)\n",
    "        \n",
    "#         return x"
   ]
  },
  {
   "cell_type": "code",
   "execution_count": 8,
   "metadata": {},
   "outputs": [],
   "source": [
    "# import optim\n",
    "import torch.optim as optim\n",
    "_softmax = nn.Softmax(dim = 1)\n",
    "from collections import defaultdict\n",
    "from sklearn.metrics import accuracy_score\n",
    "history = defaultdict(list)\n",
    "\n",
    "def train(model,\n",
    "          train_dataloader,\n",
    "          dev_dataloader,\n",
    "          criterion_label,\n",
    "          optimizer_label,\n",
    "          num_epoches,\n",
    "          early_stopping = 10, \n",
    "          best_label = 0,\n",
    "          history = history):\n",
    "\n",
    "    best_model = None\n",
    "    best_label = 0\n",
    "    best_loss = 0\n",
    "    stopping_count = 0\n",
    "\n",
    "    scheduler_label_RLROP = optim.lr_scheduler.ReduceLROnPlateau(optimizer_label, \n",
    "                                                                 'min',\n",
    "                                                                 factor=0.1,\n",
    "                                                                 patience=5)\n",
    "    \n",
    "    for epoch in range(num_epoches):\n",
    "\n",
    "        model.train()\n",
    "        \n",
    "        train_losses = []\n",
    "        y_true = []\n",
    "        y_pred = []\n",
    "        print('Epoch: ', epoch+1)\n",
    "        \n",
    "        for texts, labels in tqdm(train_dataloader):\n",
    "\n",
    "            optimizer_label.zero_grad(set_to_none=True) \n",
    "            \n",
    "            input_ids = texts['input_ids'].squeeze(1).to(device)\n",
    "            attention_mask = texts['attention_mask'].to(device)\n",
    "            labels = labels.type(torch.LongTensor)\n",
    "            labels = labels.to(device) \n",
    "            label_logits = model(input_ids, attention_mask) \n",
    "              \n",
    "            loss_label = criterion_label(label_logits.squeeze(), labels)\n",
    "            \n",
    "            _, preds = torch.max(_softmax(label_logits), dim=1)\n",
    "            preds = preds.cpu().detach()\n",
    "            target = labels.cpu().detach()         \n",
    "            y_pred.extend(preds.tolist())\n",
    "            y_true.extend(target.tolist())\n",
    "\n",
    "            train_losses.append(loss_label.item())\n",
    "            \n",
    "            loss_label.backward()\n",
    "            torch.nn.utils.clip_grad_norm_(model.parameters(), max_norm=0.5)\n",
    "            optimizer_label.step() \n",
    "\n",
    "        train_acc = accuracy_score(y_true,y_pred)              \n",
    "\n",
    "        model.eval()         \n",
    "        # Calculate validation loss and macro F1-score\n",
    "        val_losses = []\n",
    "        y_true = []\n",
    "        y_pred = []\n",
    "\n",
    "        with torch.no_grad():\n",
    "            for texts, labels in tqdm(dev_dataloader):                  \n",
    "                \n",
    "                input_ids = texts['input_ids'].squeeze(1).to(device)\n",
    "                attention_mask = texts['attention_mask'].to(device)\n",
    "                labels = labels.type(torch.LongTensor)\n",
    "                labels = labels.to(device) \n",
    "                label_logits = model(input_ids, attention_mask) \n",
    "\n",
    "                loss_label = criterion_label(label_logits.squeeze(), labels)                \n",
    "                val_losses.append(loss_label.item())\n",
    "                    \n",
    "                _, preds = torch.max(_softmax(label_logits), dim=1)\n",
    "                preds = preds.cpu().detach()\n",
    "                target = labels.cpu().detach()         \n",
    "                y_pred.extend(preds.tolist())\n",
    "                y_true.extend(target.tolist())\n",
    "        \n",
    "        dev_acc = accuracy_score(y_true,y_pred)      \n",
    "\n",
    "        train_loss = np.mean(train_losses)\n",
    "        dev_loss = np.mean(val_losses)\n",
    "\n",
    "        if best_label < dev_acc:\n",
    "            best_label = dev_acc\n",
    "        \n",
    "        if epoch == 0:\n",
    "            best_loss = dev_loss\n",
    "            torch.save(model.state_dict(), '/home/phu.hoang/Documents/courses/NLP701/MBZ-NLP701/data/models/saved_models/best_spans_model.pt')\n",
    "        elif best_loss > dev_loss:\n",
    "            best_loss = dev_loss\n",
    "            stopping_count = 0\n",
    "            torch.save(model.state_dict(), '/home/phu.hoang/Documents/courses/NLP701/MBZ-NLP701/data/models/saved_models/best_spans_model.pt')\n",
    "        else:\n",
    "            stopping_count+=1\n",
    "\n",
    "        print('Training loss: ', train_loss)\n",
    "        print('Train accuracy: ', train_acc)\n",
    "        print('----')\n",
    "        print('Dev acc: ', dev_acc)\n",
    "        print('Validation loss: ', dev_loss)\n",
    "        print('----')\n",
    "        print('Best label Acc-score: ', best_label)\n",
    "        print('stopping_count: ', stopping_count)      \n",
    "\n",
    "        history['train_acc'].append(train_acc)\n",
    "        history['train_loss'].append(train_loss.item())\n",
    "        history['val_acc'].append(dev_acc)\n",
    "        history['val_loss'].append(dev_loss.item())\n",
    "\n",
    "        scheduler_label_RLROP.step(dev_loss)\n",
    "\n",
    "        if stopping_count == early_stopping:\n",
    "            print('early_stopping reached! Done')\n",
    "            break\n",
    "\n",
    "    return history\n"
   ]
  },
  {
   "cell_type": "code",
   "execution_count": 9,
   "metadata": {},
   "outputs": [],
   "source": [
    "def test(model,\n",
    "          test_dataloader):\n",
    "    y_true = []\n",
    "    y_pred = []\n",
    "\n",
    "    with torch.no_grad():\n",
    "        for texts, labels in tqdm(test_dataloader):                  \n",
    "            \n",
    "            input_ids = texts['input_ids'].squeeze(1).to(device)\n",
    "            attention_mask = texts['attention_mask'].to(device)\n",
    "            labels = labels.type(torch.LongTensor)\n",
    "            labels = labels.to(device) \n",
    "            label_logits = model(input_ids, attention_mask) \n",
    "                \n",
    "            _, preds = torch.max(_softmax(label_logits), dim=1)\n",
    "            preds = preds.cpu().detach()\n",
    "            target = labels.cpu().detach()         \n",
    "            y_pred.extend(preds.tolist())\n",
    "            y_true.extend(target.tolist())\n",
    "    \n",
    "    test_acc = accuracy_score(y_true,y_pred)  \n",
    "\n",
    "    print('Test acc: ', test_acc)"
   ]
  },
  {
   "cell_type": "markdown",
   "metadata": {},
   "source": [
    "# Training"
   ]
  },
  {
   "cell_type": "code",
   "execution_count": 10,
   "metadata": {},
   "outputs": [],
   "source": [
    "from transformers import (\n",
    "    AutoModel, AutoConfig, XLMRobertaModel,\n",
    "    AutoTokenizer, AutoModelForSequenceClassification\n",
    ")\n",
    "id2label = {0: 'very neg', 1: 'neg', 2: 'neu', 3: 'pos', 4: 'very pos'}\n",
    "label2id = {'very neg': 0, 'neg': 1,'neu': 2, 'pos': 3, 'very pos': 4}\n",
    "input_model = XLMRobertaModel.from_pretrained(\"xlm-roberta-base\")\n",
    "tokenizer = AutoTokenizer.from_pretrained(\"xlm-roberta-base\")\n",
    "\n",
    "# Freeze most layers\n",
    "for param in input_model.base_model.parameters():\n",
    "    param.requires_grad = False\n",
    "\n",
    "# Unfreeze the last N layers\n",
    "N = 4\n",
    "for param in input_model.base_model.encoder.layer[-N:].parameters():\n",
    "    param.requires_grad = True\n",
    "\n",
    "clear_output()"
   ]
  },
  {
   "cell_type": "code",
   "execution_count": 11,
   "metadata": {},
   "outputs": [],
   "source": [
    "# \"\"\"This module defines a configurable SSTDataset class.\"\"\"\n",
    "\n",
    "# import pytreebank\n",
    "# import torch\n",
    "# # from loguru import logger\n",
    "# from transformers import AutoTokenizer\n",
    "# from torch.utils.data import Dataset\n",
    "\n",
    "# # logger.info(\"Loading SST\")\n",
    "# sst = pytreebank.load_sst()\n",
    "\n",
    "\n",
    "# def rpad(array, n=70):\n",
    "#     \"\"\"Right padding.\"\"\"\n",
    "#     current_len = len(array)\n",
    "#     if current_len > n:\n",
    "#         return array[: n - 1]\n",
    "#     extra = n - current_len\n",
    "#     return array + ([0] * extra)\n",
    "\n",
    "\n",
    "# def get_binary_label(label):\n",
    "#     \"\"\"Convert fine-grained label to binary label.\"\"\"\n",
    "#     if label < 2:\n",
    "#         return 0\n",
    "#     if label > 2:\n",
    "#         return 1\n",
    "#     raise ValueError(\"Invalid label\")\n",
    "\n",
    "\n",
    "# class SSTDataset(Dataset):\n",
    "#     \"\"\"Configurable SST Dataset.\n",
    "    \n",
    "#     Things we can configure:\n",
    "#         - split (train / val / test)\n",
    "#         - root / all nodes\n",
    "#         - binary / fine-grained\n",
    "#     \"\"\"\n",
    "\n",
    "#     def __init__(self, split=\"train\", root=True, binary=True, max_len = 66):\n",
    "#         \"\"\"Initializes the dataset with given configuration.\n",
    "\n",
    "#         Args:\n",
    "#             split: str\n",
    "#                 Dataset split, one of [train, val, test]\n",
    "#             root: bool\n",
    "#                 If true, only use root nodes. Else, use all nodes.\n",
    "#             binary: bool\n",
    "#                 If true, use binary labels. Else, use fine-grained.\n",
    "#         \"\"\"\n",
    "#         # logger.info(f\"Loading SST {split} set\")\n",
    "#         self.sst = sst[split]\n",
    "\n",
    "#         # logger.info(\"Tokenizing\")\n",
    "#         if root and binary:\n",
    "#             self.data = [\n",
    "#                 (\n",
    "#                     tokenizer(\"[CLS] \" + tree.to_lines()[0] + \" [SEP]\", \n",
    "#                                 padding='max_length', \n",
    "#                                 max_length = max_len, \n",
    "#                                 truncation=True,\n",
    "#                                 return_tensors=\"pt\"),\n",
    "#                     get_binary_label(tree.label),\n",
    "#                 )\n",
    "#                 for tree in self.sst\n",
    "#                 if tree.label != 2\n",
    "#             ]\n",
    "#         elif root and not binary:\n",
    "#             self.data = [\n",
    "#                 (\n",
    "#                     tokenizer(\"[CLS] \" + tree.to_lines()[0] + \" [SEP]\", \n",
    "#                                 padding='max_length', \n",
    "#                                 max_length = max_len, \n",
    "#                                 truncation=True,\n",
    "#                                 return_tensors=\"pt\"),\n",
    "#                     tree.label,\n",
    "#                 )\n",
    "#                 for tree in self.sst\n",
    "#             ]\n",
    "#         elif not root and not binary:\n",
    "#             self.data = [\n",
    "#                 (tokenizer(\"[CLS] \" + line + \" [SEP]\", \n",
    "#                                 padding='max_length', \n",
    "#                                 max_length = max_len, \n",
    "#                                 truncation=True,\n",
    "#                                 return_tensors=\"pt\"), label)\n",
    "#                 for tree in self.sst\n",
    "#                 for label, line in tree.to_labeled_lines()\n",
    "#             ]\n",
    "#         else:\n",
    "#             self.data = [\n",
    "#                 (\n",
    "#                     tokenizer(\"[CLS] \" + line + \" [SEP]\", \n",
    "#                                 padding='max_length', \n",
    "#                                 max_length = max_len, \n",
    "#                                 truncation=True,\n",
    "#                                 return_tensors=\"pt\"),\n",
    "#                     get_binary_label(label),\n",
    "#                 )\n",
    "#                 for tree in self.sst\n",
    "#                 for label, line in tree.to_labeled_lines()\n",
    "#                 if label != 2\n",
    "#             ]\n",
    "\n",
    "#     def __len__(self):\n",
    "#         return len(self.data)\n",
    "\n",
    "#     def __getitem__(self, index):\n",
    "#         X, y = self.data[index]\n",
    "#         # X = torch.tensor(X)\n",
    "#         return X, y\n",
    "    \n",
    "# root = True\n",
    "# binary = False\n",
    "# trainset = SSTDataset(\"train\", root=root, binary=binary)\n",
    "# devset = SSTDataset(\"dev\", root=root, binary=binary)\n",
    "# testset = SSTDataset(\"test\", root=root, binary=binary)\n",
    "\n",
    "# batch_size = 64\n",
    "\n",
    "# train_dataloader =  torch.utils.data.DataLoader(trainset, batch_size=batch_size, shuffle=True)\n",
    "# dev_dataloader =  torch.utils.data.DataLoader(devset, batch_size=batch_size, shuffle=True)\n",
    "# test_dataloader =  torch.utils.data.DataLoader(testset, batch_size=batch_size, shuffle=True)"
   ]
  },
  {
   "cell_type": "code",
   "execution_count": 12,
   "metadata": {},
   "outputs": [],
   "source": [
    "batch_size = 64\n",
    "max_len = 66\n",
    "train_dataloader = create_dataloader(*prepare_data(train_path), batch_size=batch_size, tokenizer = tokenizer, max_len=max_len, shuffle=True)\n",
    "dev_dataloader = create_dataloader(*prepare_data(dev_path), batch_size=batch_size, tokenizer = tokenizer, max_len=max_len, shuffle=False)\n",
    "test_dataloader = create_dataloader(*prepare_data(test_path), batch_size=batch_size, tokenizer = tokenizer, max_len=max_len)"
   ]
  },
  {
   "cell_type": "code",
   "execution_count": 13,
   "metadata": {},
   "outputs": [],
   "source": [
    "def weights_init(m):\n",
    "    classname = m.__class__.__name__\n",
    "    if classname.find('Conv') != -1:\n",
    "        torch.nn.init.normal_(m.weight, 0.0, 0.02)\n",
    "    elif classname.find('BatchNorm') != -1:\n",
    "        torch.nn.init.normal_(m.weight, 1.0, 0.02)\n",
    "        torch.nn.init.zeros_(m.bias)"
   ]
  },
  {
   "cell_type": "code",
   "execution_count": 14,
   "metadata": {},
   "outputs": [
    {
     "name": "stdout",
     "output_type": "stream",
     "text": [
      "Class Weights: [1.56587156 0.77056433 1.05163278 0.7360069  1.32618493]\n"
     ]
    }
   ],
   "source": [
    "# Set the number of epochs and the device to use for training\n",
    "num_epochs = 200\n",
    "plm_drop_rate = 0\n",
    "conv_size = 3\n",
    "emb_dim = 768\n",
    "conv_filters = 300\n",
    "region_drop_rate = 0\n",
    "fc_drop_rate = 0\n",
    "lr = 7e-6\n",
    "weight_decay = 1e-5\n",
    "output_dim = 5\n",
    "early_stopping = 10\n",
    "\n",
    "# Create an instance of the plm-2dcnn model\n",
    "plm_2dcnn_model = PLM_2DCNN(plm_model=input_model,\n",
    "                      plm_drop_rate= plm_drop_rate,\n",
    "                      emb_dim = emb_dim,\n",
    "                      conv_size = conv_size,\n",
    "                      conv_filters = conv_filters,\n",
    "                      region_drop_rate = region_drop_rate,\n",
    "                      fc_drop_rate = fc_drop_rate,\n",
    "                      output_dim = output_dim\n",
    "                      )\n",
    "\n",
    "plm_2dcnn_model.to(device)\n",
    "plm_2dcnn_model.apply(weights_init)\n",
    "\n",
    "## Define the loss functions\n",
    "_, labels = prepare_data(train_path)\n",
    "#compute the class weights\n",
    "class_weights = compute_class_weight(class_weight = 'balanced', \n",
    "                                     classes = np.unique(labels), \n",
    "                                     y = labels.tolist())\n",
    "print(\"Class Weights:\",class_weights)\n",
    "# converting list of class weights to a tensor\n",
    "weights= torch.tensor(class_weights,dtype=torch.float)\n",
    "# push to GPU\n",
    "weights = weights.to(device)\n",
    "# define the loss function\n",
    "criterion_label = nn.CrossEntropyLoss(weight=weights) \n",
    "\n",
    "# Define the optimizeer\n",
    "optimizer_label = optim.Adam(plm_2dcnn_model.parameters(),\n",
    "                             lr=lr,\n",
    "                             weight_decay = 0.3)\n"
   ]
  },
  {
   "cell_type": "code",
   "execution_count": 15,
   "metadata": {},
   "outputs": [
    {
     "name": "stdout",
     "output_type": "stream",
     "text": [
      "Epoch:  1\n"
     ]
    },
    {
     "name": "stderr",
     "output_type": "stream",
     "text": [
      "100%|██████████| 667/667 [01:44<00:00,  6.35it/s]\n",
      "100%|██████████| 18/18 [00:01<00:00, 11.50it/s]\n"
     ]
    },
    {
     "name": "stdout",
     "output_type": "stream",
     "text": [
      "Training loss:  1.6650015600081505\n",
      "Train accuracy:  0.18347785329271152\n",
      "----\n",
      "Dev acc:  0.17454545454545456\n",
      "Validation loss:  1.6939477390713162\n",
      "----\n",
      "Best label Acc-score:  0.17454545454545456\n",
      "stopping_count:  0\n",
      "Epoch:  2\n"
     ]
    },
    {
     "name": "stderr",
     "output_type": "stream",
     "text": [
      "100%|██████████| 667/667 [01:45<00:00,  6.30it/s]\n",
      "100%|██████████| 18/18 [00:01<00:00, 12.12it/s]\n"
     ]
    },
    {
     "name": "stdout",
     "output_type": "stream",
     "text": [
      "Training loss:  1.6451712873564668\n",
      "Train accuracy:  0.18598546988516523\n",
      "----\n",
      "Dev acc:  0.22727272727272727\n",
      "Validation loss:  1.6811910337871976\n",
      "----\n",
      "Best label Acc-score:  0.22727272727272727\n",
      "stopping_count:  0\n",
      "Epoch:  3\n"
     ]
    },
    {
     "name": "stderr",
     "output_type": "stream",
     "text": [
      "100%|██████████| 667/667 [01:46<00:00,  6.27it/s]\n",
      "100%|██████████| 18/18 [00:01<00:00, 12.02it/s]\n"
     ]
    },
    {
     "name": "stdout",
     "output_type": "stream",
     "text": [
      "Training loss:  1.6300035019864565\n",
      "Train accuracy:  0.19104757440824935\n",
      "----\n",
      "Dev acc:  0.25363636363636366\n",
      "Validation loss:  1.6744923724068537\n",
      "----\n",
      "Best label Acc-score:  0.25363636363636366\n",
      "stopping_count:  0\n",
      "Epoch:  4\n"
     ]
    },
    {
     "name": "stderr",
     "output_type": "stream",
     "text": [
      "100%|██████████| 667/667 [01:46<00:00,  6.24it/s]\n",
      "100%|██████████| 18/18 [00:01<00:00, 12.07it/s]\n"
     ]
    },
    {
     "name": "stdout",
     "output_type": "stream",
     "text": [
      "Training loss:  1.621973359066507\n",
      "Train accuracy:  0.19163346613545817\n",
      "----\n",
      "Dev acc:  0.25363636363636366\n",
      "Validation loss:  1.650635090139177\n",
      "----\n",
      "Best label Acc-score:  0.25363636363636366\n",
      "stopping_count:  0\n",
      "Epoch:  5\n"
     ]
    },
    {
     "name": "stderr",
     "output_type": "stream",
     "text": [
      "100%|██████████| 667/667 [01:46<00:00,  6.29it/s]\n",
      "100%|██████████| 18/18 [00:01<00:00, 12.05it/s]\n"
     ]
    },
    {
     "name": "stdout",
     "output_type": "stream",
     "text": [
      "Training loss:  1.6159393485339506\n",
      "Train accuracy:  0.19831263182563863\n",
      "----\n",
      "Dev acc:  0.25363636363636366\n",
      "Validation loss:  1.6452597114774916\n",
      "----\n",
      "Best label Acc-score:  0.25363636363636366\n",
      "stopping_count:  0\n",
      "Epoch:  6\n"
     ]
    },
    {
     "name": "stderr",
     "output_type": "stream",
     "text": [
      "100%|██████████| 667/667 [01:45<00:00,  6.31it/s]\n",
      "100%|██████████| 18/18 [00:01<00:00, 12.13it/s]\n"
     ]
    },
    {
     "name": "stdout",
     "output_type": "stream",
     "text": [
      "Training loss:  1.6120964996460854\n",
      "Train accuracy:  0.20201546754159833\n",
      "----\n",
      "Dev acc:  0.25363636363636366\n",
      "Validation loss:  1.647410598066118\n",
      "----\n",
      "Best label Acc-score:  0.25363636363636366\n",
      "stopping_count:  1\n",
      "Epoch:  7\n"
     ]
    },
    {
     "name": "stderr",
     "output_type": "stream",
     "text": [
      "100%|██████████| 667/667 [01:45<00:00,  6.29it/s]\n",
      "100%|██████████| 18/18 [00:01<00:00, 12.06it/s]\n"
     ]
    },
    {
     "name": "stdout",
     "output_type": "stream",
     "text": [
      "Training loss:  1.6100813280874822\n",
      "Train accuracy:  0.20278884462151395\n",
      "----\n",
      "Dev acc:  0.25363636363636366\n",
      "Validation loss:  1.637021799882253\n",
      "----\n",
      "Best label Acc-score:  0.25363636363636366\n",
      "stopping_count:  0\n",
      "Epoch:  8\n"
     ]
    },
    {
     "name": "stderr",
     "output_type": "stream",
     "text": [
      "100%|██████████| 667/667 [01:45<00:00,  6.30it/s]\n",
      "100%|██████████| 18/18 [00:01<00:00, 12.07it/s]\n"
     ]
    },
    {
     "name": "stdout",
     "output_type": "stream",
     "text": [
      "Training loss:  1.609319115328467\n",
      "Train accuracy:  0.20456995547222873\n",
      "----\n",
      "Dev acc:  0.25272727272727274\n",
      "Validation loss:  1.6205479039086237\n",
      "----\n",
      "Best label Acc-score:  0.25363636363636366\n",
      "stopping_count:  0\n",
      "Epoch:  9\n"
     ]
    },
    {
     "name": "stderr",
     "output_type": "stream",
     "text": [
      "100%|██████████| 667/667 [01:46<00:00,  6.28it/s]\n",
      "100%|██████████| 18/18 [00:01<00:00, 12.07it/s]\n"
     ]
    },
    {
     "name": "stdout",
     "output_type": "stream",
     "text": [
      "Training loss:  1.6075474188245575\n",
      "Train accuracy:  0.21150691352238107\n",
      "----\n",
      "Dev acc:  0.2545454545454545\n",
      "Validation loss:  1.6171685258547466\n",
      "----\n",
      "Best label Acc-score:  0.2545454545454545\n",
      "stopping_count:  0\n",
      "Epoch:  10\n"
     ]
    },
    {
     "name": "stderr",
     "output_type": "stream",
     "text": [
      "100%|██████████| 667/667 [01:46<00:00,  6.26it/s]\n",
      "100%|██████████| 18/18 [00:01<00:00, 12.06it/s]\n"
     ]
    },
    {
     "name": "stdout",
     "output_type": "stream",
     "text": [
      "Training loss:  1.6064610685008218\n",
      "Train accuracy:  0.21492852120928052\n",
      "----\n",
      "Dev acc:  0.1809090909090909\n",
      "Validation loss:  1.6133685111999512\n",
      "----\n",
      "Best label Acc-score:  0.2545454545454545\n",
      "stopping_count:  0\n",
      "Epoch:  11\n"
     ]
    },
    {
     "name": "stderr",
     "output_type": "stream",
     "text": [
      "100%|██████████| 667/667 [01:46<00:00,  6.28it/s]\n",
      "100%|██████████| 18/18 [00:01<00:00, 11.93it/s]\n"
     ]
    },
    {
     "name": "stdout",
     "output_type": "stream",
     "text": [
      "Training loss:  1.6045835289819308\n",
      "Train accuracy:  0.22191235059760955\n",
      "----\n",
      "Dev acc:  0.25636363636363635\n",
      "Validation loss:  1.6107202635871039\n",
      "----\n",
      "Best label Acc-score:  0.25636363636363635\n",
      "stopping_count:  0\n",
      "Epoch:  12\n"
     ]
    },
    {
     "name": "stderr",
     "output_type": "stream",
     "text": [
      "100%|██████████| 667/667 [01:46<00:00,  6.27it/s]\n",
      "100%|██████████| 18/18 [00:01<00:00, 12.07it/s]\n"
     ]
    },
    {
     "name": "stdout",
     "output_type": "stream",
     "text": [
      "Training loss:  1.5936122360615537\n",
      "Train accuracy:  0.2409186782282634\n",
      "----\n",
      "Dev acc:  0.27454545454545454\n",
      "Validation loss:  1.5671361552344427\n",
      "----\n",
      "Best label Acc-score:  0.27454545454545454\n",
      "stopping_count:  0\n",
      "Epoch:  13\n"
     ]
    },
    {
     "name": "stderr",
     "output_type": "stream",
     "text": [
      "100%|██████████| 667/667 [01:46<00:00,  6.26it/s]\n",
      "100%|██████████| 18/18 [00:01<00:00, 12.06it/s]\n"
     ]
    },
    {
     "name": "stdout",
     "output_type": "stream",
     "text": [
      "Training loss:  1.5490526061008\n",
      "Train accuracy:  0.26402624794937896\n",
      "----\n",
      "Dev acc:  0.25545454545454543\n",
      "Validation loss:  1.504560477203793\n",
      "----\n",
      "Best label Acc-score:  0.27454545454545454\n",
      "stopping_count:  0\n",
      "Epoch:  14\n"
     ]
    },
    {
     "name": "stderr",
     "output_type": "stream",
     "text": [
      "100%|██████████| 667/667 [01:46<00:00,  6.28it/s]\n",
      "100%|██████████| 18/18 [00:01<00:00, 12.13it/s]\n"
     ]
    },
    {
     "name": "stdout",
     "output_type": "stream",
     "text": [
      "Training loss:  1.5275663015903205\n",
      "Train accuracy:  0.25732364659011014\n",
      "----\n",
      "Dev acc:  0.2881818181818182\n",
      "Validation loss:  1.487134873867035\n",
      "----\n",
      "Best label Acc-score:  0.2881818181818182\n",
      "stopping_count:  0\n",
      "Epoch:  15\n"
     ]
    },
    {
     "name": "stderr",
     "output_type": "stream",
     "text": [
      "100%|██████████| 667/667 [01:46<00:00,  6.28it/s]\n",
      "100%|██████████| 18/18 [00:01<00:00, 12.07it/s]\n"
     ]
    },
    {
     "name": "stdout",
     "output_type": "stream",
     "text": [
      "Training loss:  1.5205788188788487\n",
      "Train accuracy:  0.24757440824935553\n",
      "----\n",
      "Dev acc:  0.3463636363636364\n",
      "Validation loss:  1.519807669851515\n",
      "----\n",
      "Best label Acc-score:  0.3463636363636364\n",
      "stopping_count:  1\n",
      "Epoch:  16\n"
     ]
    },
    {
     "name": "stderr",
     "output_type": "stream",
     "text": [
      "100%|██████████| 667/667 [01:46<00:00,  6.26it/s]\n",
      "100%|██████████| 18/18 [00:01<00:00, 12.08it/s]\n"
     ]
    },
    {
     "name": "stdout",
     "output_type": "stream",
     "text": [
      "Training loss:  1.5226399601846263\n",
      "Train accuracy:  0.2394422310756972\n",
      "----\n",
      "Dev acc:  0.2690909090909091\n",
      "Validation loss:  1.5201434757974412\n",
      "----\n",
      "Best label Acc-score:  0.3463636363636364\n",
      "stopping_count:  2\n",
      "Epoch:  17\n"
     ]
    },
    {
     "name": "stderr",
     "output_type": "stream",
     "text": [
      "100%|██████████| 667/667 [01:46<00:00,  6.27it/s]\n",
      "100%|██████████| 18/18 [00:01<00:00, 12.07it/s]\n"
     ]
    },
    {
     "name": "stdout",
     "output_type": "stream",
     "text": [
      "Training loss:  1.5233064208967217\n",
      "Train accuracy:  0.23665338645418327\n",
      "----\n",
      "Dev acc:  0.25\n",
      "Validation loss:  1.4898036983278062\n",
      "----\n",
      "Best label Acc-score:  0.3463636363636364\n",
      "stopping_count:  3\n",
      "Epoch:  18\n"
     ]
    },
    {
     "name": "stderr",
     "output_type": "stream",
     "text": [
      "100%|██████████| 667/667 [01:46<00:00,  6.24it/s]\n",
      "100%|██████████| 18/18 [00:01<00:00, 12.07it/s]\n"
     ]
    },
    {
     "name": "stdout",
     "output_type": "stream",
     "text": [
      "Training loss:  1.5269359850633268\n",
      "Train accuracy:  0.23726271385048042\n",
      "----\n",
      "Dev acc:  0.24545454545454545\n",
      "Validation loss:  1.5129791365729437\n",
      "----\n",
      "Best label Acc-score:  0.3463636363636364\n",
      "stopping_count:  4\n",
      "Epoch:  19\n"
     ]
    },
    {
     "name": "stderr",
     "output_type": "stream",
     "text": [
      "100%|██████████| 667/667 [01:46<00:00,  6.28it/s]\n",
      "100%|██████████| 18/18 [00:01<00:00, 12.11it/s]\n"
     ]
    },
    {
     "name": "stdout",
     "output_type": "stream",
     "text": [
      "Training loss:  1.5323478569691327\n",
      "Train accuracy:  0.23611436606515115\n",
      "----\n",
      "Dev acc:  0.24545454545454545\n",
      "Validation loss:  1.51282446914249\n",
      "----\n",
      "Best label Acc-score:  0.3463636363636364\n",
      "stopping_count:  5\n",
      "Epoch:  20\n"
     ]
    },
    {
     "name": "stderr",
     "output_type": "stream",
     "text": [
      "100%|██████████| 667/667 [01:45<00:00,  6.29it/s]\n",
      "100%|██████████| 18/18 [00:01<00:00, 12.06it/s]\n"
     ]
    },
    {
     "name": "stdout",
     "output_type": "stream",
     "text": [
      "Training loss:  1.5330307649886947\n",
      "Train accuracy:  0.23937192406843216\n",
      "----\n",
      "Dev acc:  0.26636363636363636\n",
      "Validation loss:  1.5445188615057204\n",
      "----\n",
      "Best label Acc-score:  0.3463636363636364\n",
      "stopping_count:  6\n",
      "Epoch:  21\n"
     ]
    },
    {
     "name": "stderr",
     "output_type": "stream",
     "text": [
      "100%|██████████| 667/667 [01:46<00:00,  6.29it/s]\n",
      "100%|██████████| 18/18 [00:01<00:00, 12.08it/s]\n"
     ]
    },
    {
     "name": "stdout",
     "output_type": "stream",
     "text": [
      "Training loss:  1.531971333266377\n",
      "Train accuracy:  0.24478556362784157\n",
      "----\n",
      "Dev acc:  0.24909090909090909\n",
      "Validation loss:  1.5196164382828607\n",
      "----\n",
      "Best label Acc-score:  0.3463636363636364\n",
      "stopping_count:  7\n",
      "Epoch:  22\n"
     ]
    },
    {
     "name": "stderr",
     "output_type": "stream",
     "text": [
      "100%|██████████| 667/667 [01:46<00:00,  6.27it/s]\n",
      "100%|██████████| 18/18 [00:01<00:00, 12.12it/s]\n"
     ]
    },
    {
     "name": "stdout",
     "output_type": "stream",
     "text": [
      "Training loss:  1.5318322725024358\n",
      "Train accuracy:  0.24480899929692992\n",
      "----\n",
      "Dev acc:  0.2509090909090909\n",
      "Validation loss:  1.516021404001448\n",
      "----\n",
      "Best label Acc-score:  0.3463636363636364\n",
      "stopping_count:  8\n",
      "Epoch:  23\n"
     ]
    },
    {
     "name": "stderr",
     "output_type": "stream",
     "text": [
      "100%|██████████| 667/667 [01:45<00:00,  6.30it/s]\n",
      "100%|██████████| 18/18 [00:01<00:00, 12.07it/s]\n"
     ]
    },
    {
     "name": "stdout",
     "output_type": "stream",
     "text": [
      "Training loss:  1.5347052503382785\n",
      "Train accuracy:  0.24509022732599015\n",
      "----\n",
      "Dev acc:  0.24363636363636362\n",
      "Validation loss:  1.5244579646322463\n",
      "----\n",
      "Best label Acc-score:  0.3463636363636364\n",
      "stopping_count:  9\n",
      "Epoch:  24\n"
     ]
    },
    {
     "name": "stderr",
     "output_type": "stream",
     "text": [
      "100%|██████████| 667/667 [01:45<00:00,  6.30it/s]\n",
      "100%|██████████| 18/18 [00:01<00:00, 12.13it/s]"
     ]
    },
    {
     "name": "stdout",
     "output_type": "stream",
     "text": [
      "Training loss:  1.5381176443114273\n",
      "Train accuracy:  0.24532458401687368\n",
      "----\n",
      "Dev acc:  0.25636363636363635\n",
      "Validation loss:  1.528730418947008\n",
      "----\n",
      "Best label Acc-score:  0.3463636363636364\n",
      "stopping_count:  10\n",
      "early_stopping reached! Done\n"
     ]
    },
    {
     "name": "stderr",
     "output_type": "stream",
     "text": [
      "\n"
     ]
    }
   ],
   "source": [
    "history = train(model=plm_2dcnn_model,\n",
    "                  train_dataloader=train_dataloader,\n",
    "                  dev_dataloader=dev_dataloader,\n",
    "                  criterion_label=criterion_label,\n",
    "                  optimizer_label=optimizer_label,\n",
    "                  num_epoches=num_epochs,\n",
    "                  early_stopping=early_stopping)"
   ]
  },
  {
   "cell_type": "code",
   "execution_count": 16,
   "metadata": {},
   "outputs": [
    {
     "name": "stderr",
     "output_type": "stream",
     "text": [
      "100%|██████████| 35/35 [00:03<00:00, 11.32it/s]"
     ]
    },
    {
     "name": "stdout",
     "output_type": "stream",
     "text": [
      "Test acc:  0.3040723981900452\n"
     ]
    },
    {
     "name": "stderr",
     "output_type": "stream",
     "text": [
      "\n"
     ]
    }
   ],
   "source": [
    "model_path = '/home/phu.hoang/Documents/courses/NLP701/MBZ-NLP701/data/models/saved_models/best_spans_model.pt'\n",
    "num_epochs = 50\n",
    "plm_drop_rate = 0\n",
    "conv_size = 3\n",
    "emb_dim = 768\n",
    "conv_filters = 300\n",
    "region_drop_rate = 0\n",
    "fc_drop_rate = 0\n",
    "lr = 5e-6\n",
    "weight_decay = 1e-5\n",
    "output_dim = 5\n",
    "early_stopping = 10\n",
    "\n",
    "# Create an instance of the plm-2dcnn model\n",
    "plm_2dcnn_model = PLM_2DCNN(plm_model=input_model,\n",
    "                      plm_drop_rate= plm_drop_rate,\n",
    "                      emb_dim = emb_dim,\n",
    "                      conv_size = conv_size,\n",
    "                      conv_filters = conv_filters,\n",
    "                      region_drop_rate = region_drop_rate,\n",
    "                      fc_drop_rate = fc_drop_rate,\n",
    "                      output_dim = output_dim\n",
    "                      )\n",
    "plm_2dcnn_model.to(device)\n",
    "plm_2dcnn_model.load_state_dict(torch.load(model_path))\n",
    "\n",
    "test(model = plm_2dcnn_model,test_dataloader=test_dataloader)\n"
   ]
  },
  {
   "cell_type": "code",
   "execution_count": 17,
   "metadata": {},
   "outputs": [
    {
     "data": {
      "image/png": "[encoded data removed]",
      "text/plain": [
       "<Figure size 640x480 with 1 Axes>"
      ]
     },
     "metadata": {},
     "output_type": "display_data"
    },
    {
     "data": {
      "image/png": "[encoded data removed]",
      "text/plain": [
       "<Figure size 640x480 with 1 Axes>"
      ]
     },
     "metadata": {},
     "output_type": "display_data"
    }
   ],
   "source": [
    "#DPCNN\n",
    "import matplotlib.pyplot as plt\n",
    "\n",
    "def show_how_it_learns_acc(history):\n",
    "    plt.figure()\n",
    "    plt.plot(history['train_acc'], label='train accuracy')\n",
    "    plt.plot(history['val_acc'], label='validation accuracy')\n",
    "\n",
    "    plt.title('Training history')\n",
    "    plt.ylabel('Accuracy')\n",
    "    plt.xlabel('Epoch')\n",
    "    plt.legend()\n",
    "    plt.ylim([0, 1])\n",
    "\n",
    "def show_how_it_learns_loss(history):\n",
    "    plt.figure()\n",
    "    plt.plot(history['train_loss'], label='train loss')\n",
    "    plt.plot(history['val_loss'], label='validation loss')\n",
    "\n",
    "    plt.title('Training history')\n",
    "    plt.ylabel('Loss')\n",
    "    plt.xlabel('Epoch')\n",
    "    plt.legend()\n",
    "\n",
    "show_how_it_learns_acc(history)\n",
    "show_how_it_learns_loss(history)"
   ]
  }
 ],
 "metadata": {
  "kernelspec": {
   "display_name": "nlp_lab",
   "language": "python",
   "name": "python3"
  },
  "language_info": {
   "codemirror_mode": {
    "name": "ipython",
    "version": 3
   },
   "file_extension": ".py",
   "mimetype": "text/x-python",
   "name": "python",
   "nbconvert_exporter": "python",
   "pygments_lexer": "ipython3",
   "version": "3.8.17"
  },
  "orig_nbformat": 4
 },
 "nbformat": 4,
 "nbformat_minor": 2
}
